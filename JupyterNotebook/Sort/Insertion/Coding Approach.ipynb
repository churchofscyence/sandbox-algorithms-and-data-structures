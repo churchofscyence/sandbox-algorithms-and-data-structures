{
 "cells": [
  {
   "cell_type": "code",
   "execution_count": 138,
   "id": "e521ee53",
   "metadata": {},
   "outputs": [
    {
     "name": "stdout",
     "output_type": "stream",
     "text": [
      "_________________________________\n",
      "[ 0 ] = 6\n",
      "[ 1 ] = 5\n",
      "[ 2 ] = 3\n",
      "[ 3 ] = 1\n",
      "[ 4 ] = 8\n",
      "[ 5 ] = 7\n",
      "[ 6 ] = 2\n",
      "[ 7 ] = 4\n"
     ]
    }
   ],
   "source": [
    "function printerArray(arrayList){\n",
    "    console.log(`_________________________________`);\n",
    "    for( var i = 0; i < arrayList.length;i++){\n",
    "        console.log(`[ ${i} ] = ${arrayList[i]}`);\n",
    "    }\n",
    "}\n",
    "\n",
    "printerArray(new Array(6,5,3,1,8,7,2,4));"
   ]
  },
  {
   "cell_type": "markdown",
   "id": "01e069bd",
   "metadata": {},
   "source": [
    "# Define Variables"
   ]
  },
  {
   "cell_type": "code",
   "execution_count": 139,
   "id": "77c50c00",
   "metadata": {},
   "outputs": [],
   "source": [
    "let arr;"
   ]
  },
  {
   "cell_type": "code",
   "execution_count": 140,
   "id": "81aba61a",
   "metadata": {},
   "outputs": [],
   "source": [
    "let i;"
   ]
  },
  {
   "cell_type": "code",
   "execution_count": 141,
   "id": "fb4d21ac",
   "metadata": {},
   "outputs": [],
   "source": [
    "let lastIndex;"
   ]
  },
  {
   "cell_type": "code",
   "execution_count": 142,
   "id": "8e79d15d",
   "metadata": {},
   "outputs": [],
   "source": [
    "let currentElement;"
   ]
  },
  {
   "cell_type": "markdown",
   "id": "c485652e",
   "metadata": {},
   "source": [
    "# Insertion Sort"
   ]
  },
  {
   "cell_type": "code",
   "execution_count": 143,
   "id": "bd040a1d",
   "metadata": {},
   "outputs": [
    {
     "data": {
      "text/plain": [
       "[ 6, 5, 'MOVING VALUE = 3', 1, 8, 7, 2, 4 ]"
      ]
     },
     "execution_count": 143,
     "metadata": {},
     "output_type": "execute_result"
    }
   ],
   "source": [
    "arr = new Array(6,5,'MOVING VALUE = 3',1,8,7,2,4); "
   ]
  },
  {
   "cell_type": "markdown",
   "id": "cabae5f3",
   "metadata": {},
   "source": [
    "We are going to move 'MOVING VALUE = 3' at index 2. This is the outer *for loop* that you using to check all the value to left. So compare 6 and 5 to the 'MOVING VALUE = 3'. "
   ]
  },
  {
   "cell_type": "code",
   "execution_count": 144,
   "id": "e3786add",
   "metadata": {},
   "outputs": [
    {
     "data": {
      "text/plain": [
       "2"
      ]
     },
     "execution_count": 144,
     "metadata": {},
     "output_type": "execute_result"
    }
   ],
   "source": [
    "i = 2;"
   ]
  },
  {
   "cell_type": "code",
   "execution_count": 145,
   "id": "e39da8f9",
   "metadata": {},
   "outputs": [
    {
     "data": {
      "text/plain": [
       "'MOVING VALUE = 3'"
      ]
     },
     "execution_count": 145,
     "metadata": {},
     "output_type": "execute_result"
    }
   ],
   "source": [
    "arr[i]"
   ]
  },
  {
   "cell_type": "markdown",
   "id": "0e725c2d",
   "metadata": {},
   "source": [
    "### Store Current Value in Temporary Variable."
   ]
  },
  {
   "cell_type": "markdown",
   "id": "4fdc31a8",
   "metadata": {},
   "source": [
    "Now we need the store the 'MOVING VALUE = 3' becase going move all values to the left to to right."
   ]
  },
  {
   "cell_type": "code",
   "execution_count": 146,
   "id": "f6e97eab",
   "metadata": {},
   "outputs": [
    {
     "data": {
      "text/plain": [
       "'MOVING VALUE = 3'"
      ]
     },
     "execution_count": 146,
     "metadata": {},
     "output_type": "execute_result"
    }
   ],
   "source": [
    "currentElement = arr[i];"
   ]
  },
  {
   "cell_type": "markdown",
   "id": "eb4b338b",
   "metadata": {},
   "source": [
    "### Shift Elements to the Right"
   ]
  },
  {
   "cell_type": "code",
   "execution_count": 147,
   "id": "99b36705",
   "metadata": {},
   "outputs": [
    {
     "data": {
      "text/plain": [
       "1"
      ]
     },
     "execution_count": 147,
     "metadata": {},
     "output_type": "execute_result"
    }
   ],
   "source": [
    "lastIndex = i - 1;"
   ]
  },
  {
   "cell_type": "code",
   "execution_count": 148,
   "id": "f4ba25f5",
   "metadata": {},
   "outputs": [
    {
     "name": "stdout",
     "output_type": "stream",
     "text": [
      "6,5,MOVING VALUE = 3,1,8,7,2,4\n"
     ]
    }
   ],
   "source": [
    "console.log( arr.join() );"
   ]
  },
  {
   "cell_type": "code",
   "execution_count": 149,
   "id": "a7375a76",
   "metadata": {},
   "outputs": [
    {
     "data": {
      "text/plain": [
       "5"
      ]
     },
     "execution_count": 149,
     "metadata": {},
     "output_type": "execute_result"
    }
   ],
   "source": [
    "arr[lastIndex + 1] = arr[lastIndex];"
   ]
  },
  {
   "cell_type": "markdown",
   "id": "6c2e942a",
   "metadata": {},
   "source": [
    "Now we copyied [ 1 ] = 5 to the index 2. So [1] = 5 and [2] = 5 have the **same values**."
   ]
  },
  {
   "cell_type": "code",
   "execution_count": 150,
   "id": "dc4e11ab",
   "metadata": {},
   "outputs": [
    {
     "name": "stdout",
     "output_type": "stream",
     "text": [
      "6,5,5,1,8,7,2,4\n"
     ]
    }
   ],
   "source": [
    "console.log( arr.join() );"
   ]
  },
  {
   "cell_type": "markdown",
   "id": "4d5b03f4",
   "metadata": {},
   "source": [
    "### Copy Current Value in the array"
   ]
  },
  {
   "cell_type": "code",
   "execution_count": 151,
   "id": "4e7a00ec",
   "metadata": {},
   "outputs": [
    {
     "data": {
      "text/plain": [
       "'MOVING VALUE = 3'"
      ]
     },
     "execution_count": 151,
     "metadata": {},
     "output_type": "execute_result"
    }
   ],
   "source": [
    "arr[lastIndex ] = currentElement;"
   ]
  },
  {
   "cell_type": "code",
   "execution_count": 152,
   "id": "a604ac01",
   "metadata": {},
   "outputs": [
    {
     "name": "stdout",
     "output_type": "stream",
     "text": [
      "6,MOVING VALUE = 3,5,1,8,7,2,4\n"
     ]
    }
   ],
   "source": [
    "console.log( arr.join() );"
   ]
  },
  {
   "cell_type": "markdown",
   "id": "fae218b5",
   "metadata": {},
   "source": [
    "# While Loop Example"
   ]
  },
  {
   "cell_type": "code",
   "execution_count": 153,
   "id": "f042f1e0",
   "metadata": {},
   "outputs": [],
   "source": [
    "let arr_Loop;\n",
    "let i_Loop;\n",
    "let lastIndex_Loop;\n",
    "let currentElement_Loop;"
   ]
  },
  {
   "cell_type": "code",
   "execution_count": 154,
   "id": "cca0a3c0",
   "metadata": {},
   "outputs": [
    {
     "data": {
      "text/plain": [
       "[\n",
       "  6, 5, 3, 1,\n",
       "  8, 7, 2, 4\n",
       "]"
      ]
     },
     "execution_count": 154,
     "metadata": {},
     "output_type": "execute_result"
    }
   ],
   "source": [
    "arr_Loop = new Array(6,5,3,1,8,7,2,4); "
   ]
  },
  {
   "cell_type": "code",
   "execution_count": 155,
   "id": "5eab74e4",
   "metadata": {},
   "outputs": [
    {
     "data": {
      "text/plain": [
       "1"
      ]
     },
     "execution_count": 155,
     "metadata": {},
     "output_type": "execute_result"
    }
   ],
   "source": [
    "i_Loop = 2;\n",
    "lastIndex_Loop = i_Loop  - 1;"
   ]
  },
  {
   "cell_type": "code",
   "execution_count": 156,
   "id": "c7967eae",
   "metadata": {},
   "outputs": [
    {
     "data": {
      "text/plain": [
       "3"
      ]
     },
     "execution_count": 156,
     "metadata": {},
     "output_type": "execute_result"
    }
   ],
   "source": [
    "currentElement_Loop = arr_Loop[i_Loop];"
   ]
  },
  {
   "cell_type": "code",
   "execution_count": 157,
   "id": "884f4ab0",
   "metadata": {},
   "outputs": [
    {
     "name": "stdout",
     "output_type": "stream",
     "text": [
      "6,5,3,1,8,7,2,4\n"
     ]
    }
   ],
   "source": [
    "console.log( arr_Loop.join() );"
   ]
  },
  {
   "cell_type": "code",
   "execution_count": 158,
   "id": "241883f8",
   "metadata": {},
   "outputs": [
    {
     "name": "stdout",
     "output_type": "stream",
     "text": [
      "_________________________________\n",
      "[ 0 ] = 6\n",
      "[ 1 ] = 5\n",
      "[ 2 ] = 5\n",
      "[ 3 ] = 1\n",
      "[ 4 ] = 8\n",
      "[ 5 ] = 7\n",
      "[ 6 ] = 2\n",
      "[ 7 ] = 4\n",
      "_________________________________\n",
      "[ 0 ] = 6\n",
      "[ 1 ] = 6\n",
      "[ 2 ] = 5\n",
      "[ 3 ] = 1\n",
      "[ 4 ] = 8\n",
      "[ 5 ] = 7\n",
      "[ 6 ] = 2\n",
      "[ 7 ] = 4\n"
     ]
    }
   ],
   "source": [
    "  while (arr_Loop[lastIndex_Loop] > currentElement_Loop) {\n",
    "    arr_Loop[lastIndex_Loop + 1] = arr_Loop[lastIndex_Loop];\n",
    "    lastIndex_Loop--;\n",
    "      \n",
    "    printerArray(arr_Loop);\n",
    "  }"
   ]
  },
  {
   "cell_type": "markdown",
   "id": "2ffc7d00",
   "metadata": {},
   "source": [
    "Moved [0]=6,[1]=5 to [1]=6,[2]=5. "
   ]
  },
  {
   "cell_type": "code",
   "execution_count": 159,
   "id": "51c69ae1",
   "metadata": {},
   "outputs": [
    {
     "name": "stdout",
     "output_type": "stream",
     "text": [
      "6,6,5,1,8,7,2,4\n"
     ]
    }
   ],
   "source": [
    "console.log( arr_Loop.join() );"
   ]
  },
  {
   "cell_type": "markdown",
   "id": "8248e4fb",
   "metadata": {},
   "source": [
    "So put Currect Element at index 0;"
   ]
  },
  {
   "cell_type": "code",
   "execution_count": 160,
   "id": "20235d9d",
   "metadata": {},
   "outputs": [
    {
     "name": "stdout",
     "output_type": "stream",
     "text": [
      "3,6,5,1,8,7,2,4\n"
     ]
    }
   ],
   "source": [
    "arr_Loop[0] = currentElement_Loop;\n",
    "console.log( arr_Loop.join() );"
   ]
  }
 ],
 "metadata": {
  "kernelspec": {
   "display_name": "JavaScript (Node.js)",
   "language": "javascript",
   "name": "javascript"
  },
  "language_info": {
   "file_extension": ".js",
   "mimetype": "application/javascript",
   "name": "javascript",
   "version": "20.11.1"
  }
 },
 "nbformat": 4,
 "nbformat_minor": 5
}
