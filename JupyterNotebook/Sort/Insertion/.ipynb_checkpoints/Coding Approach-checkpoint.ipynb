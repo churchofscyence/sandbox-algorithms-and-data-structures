{
 "cells": [
  {
   "cell_type": "code",
   "execution_count": 138,
   "id": "b303bc3a",
   "metadata": {},
   "outputs": [
    {
     "name": "stdout",
     "output_type": "stream",
     "text": [
      "_________________________________\n",
      "[ 0 ] = 6\n",
      "[ 1 ] = 5\n",
      "[ 2 ] = 3\n",
      "[ 3 ] = 1\n",
      "[ 4 ] = 8\n",
      "[ 5 ] = 7\n",
      "[ 6 ] = 2\n",
      "[ 7 ] = 4\n"
     ]
    }
   ],
   "source": [
    "function printerArray(arrayList){\n",
    "    console.log(`_________________________________`);\n",
    "    for( var i = 0; i < arrayList.length;i++){\n",
    "        console.log(`[ ${i} ] = ${arrayList[i]}`);\n",
    "    }\n",
    "}\n",
    "\n",
    "printerArray(new Array(6,5,3,1,8,7,2,4));"
   ]
  },
  {
   "cell_type": "markdown",
   "id": "e356a36c",
   "metadata": {},
   "source": [
    "# Define Variables"
   ]
  },
  {
   "cell_type": "code",
   "execution_count": 139,
   "id": "781e4bcf",
   "metadata": {},
   "outputs": [],
   "source": [
    "let arr;"
   ]
  },
  {
   "cell_type": "code",
   "execution_count": 140,
   "id": "7072f8c6",
   "metadata": {},
   "outputs": [],
   "source": [
    "let i;"
   ]
  },
  {
   "cell_type": "code",
   "execution_count": 141,
   "id": "776a5c4e",
   "metadata": {},
   "outputs": [],
   "source": [
    "let lastIndex;"
   ]
  },
  {
   "cell_type": "code",
   "execution_count": 142,
   "id": "df66267d",
   "metadata": {},
   "outputs": [],
   "source": [
    "let currentElement;"
   ]
  },
  {
   "cell_type": "markdown",
   "id": "84484912",
   "metadata": {},
   "source": [
    "# Insertion Sort"
   ]
  },
  {
   "cell_type": "code",
   "execution_count": 143,
   "id": "9ad9ade8",
   "metadata": {},
   "outputs": [
    {
     "data": {
      "text/plain": [
       "[ 6, 5, 'MOVING VALUE = 3', 1, 8, 7, 2, 4 ]"
      ]
     },
     "execution_count": 143,
     "metadata": {},
     "output_type": "execute_result"
    }
   ],
   "source": [
    "arr = new Array(6,5,'MOVING VALUE = 3',1,8,7,2,4); "
   ]
  },
  {
   "cell_type": "markdown",
   "id": "f295dfe3",
   "metadata": {},
   "source": [
    "We are going to move 'MOVING VALUE = 3' at index 2. This is the outer *for loop* that you using to check all the value to left. So compare 6 and 5 to the 'MOVING VALUE = 3'. "
   ]
  },
  {
   "cell_type": "code",
   "execution_count": 144,
   "id": "b64bdc82",
   "metadata": {},
   "outputs": [
    {
     "data": {
      "text/plain": [
       "2"
      ]
     },
     "execution_count": 144,
     "metadata": {},
     "output_type": "execute_result"
    }
   ],
   "source": [
    "i = 2;"
   ]
  },
  {
   "cell_type": "code",
   "execution_count": 145,
   "id": "9bbb8782",
   "metadata": {},
   "outputs": [
    {
     "data": {
      "text/plain": [
       "'MOVING VALUE = 3'"
      ]
     },
     "execution_count": 145,
     "metadata": {},
     "output_type": "execute_result"
    }
   ],
   "source": [
    "arr[i]"
   ]
  },
  {
   "cell_type": "markdown",
   "id": "7867272a",
   "metadata": {},
   "source": [
    "### Store Current Value in Temporary Variable."
   ]
  },
  {
   "cell_type": "markdown",
   "id": "e73a2b8d",
   "metadata": {},
   "source": [
    "Now we need the store the 'MOVING VALUE = 3' becase going move all values to the left to to right."
   ]
  },
  {
   "cell_type": "code",
   "execution_count": 146,
   "id": "cc06d0a1",
   "metadata": {},
   "outputs": [
    {
     "data": {
      "text/plain": [
       "'MOVING VALUE = 3'"
      ]
     },
     "execution_count": 146,
     "metadata": {},
     "output_type": "execute_result"
    }
   ],
   "source": [
    "currentElement = arr[i];"
   ]
  },
  {
   "cell_type": "markdown",
   "id": "a96af35b",
   "metadata": {},
   "source": [
    "### Shift Elements to the Right"
   ]
  },
  {
   "cell_type": "code",
   "execution_count": 147,
   "id": "556cc796",
   "metadata": {},
   "outputs": [
    {
     "data": {
      "text/plain": [
       "1"
      ]
     },
     "execution_count": 147,
     "metadata": {},
     "output_type": "execute_result"
    }
   ],
   "source": [
    "lastIndex = i - 1;"
   ]
  },
  {
   "cell_type": "code",
   "execution_count": 148,
   "id": "18a4fe9c",
   "metadata": {},
   "outputs": [
    {
     "name": "stdout",
     "output_type": "stream",
     "text": [
      "6,5,MOVING VALUE = 3,1,8,7,2,4\n"
     ]
    }
   ],
   "source": [
    "console.log( arr.join() );"
   ]
  },
  {
   "cell_type": "code",
   "execution_count": 149,
   "id": "919821d2",
   "metadata": {},
   "outputs": [
    {
     "data": {
      "text/plain": [
       "5"
      ]
     },
     "execution_count": 149,
     "metadata": {},
     "output_type": "execute_result"
    }
   ],
   "source": [
    "arr[lastIndex + 1] = arr[lastIndex];"
   ]
  },
  {
   "cell_type": "markdown",
   "id": "d2c70bcd",
   "metadata": {},
   "source": [
    "Now we copyied [ 1 ] = 5 to the index 2. So [1] = 5 and [2] = 5 have the **same values**."
   ]
  },
  {
   "cell_type": "code",
   "execution_count": 150,
   "id": "487252cd",
   "metadata": {},
   "outputs": [
    {
     "name": "stdout",
     "output_type": "stream",
     "text": [
      "6,5,5,1,8,7,2,4\n"
     ]
    }
   ],
   "source": [
    "console.log( arr.join() );"
   ]
  },
  {
   "cell_type": "markdown",
   "id": "90283d0a",
   "metadata": {},
   "source": [
    "### Copy Current Value in the array"
   ]
  },
  {
   "cell_type": "code",
   "execution_count": 151,
   "id": "e22c9e39",
   "metadata": {},
   "outputs": [
    {
     "data": {
      "text/plain": [
       "'MOVING VALUE = 3'"
      ]
     },
     "execution_count": 151,
     "metadata": {},
     "output_type": "execute_result"
    }
   ],
   "source": [
    "arr[lastIndex ] = currentElement;"
   ]
  },
  {
   "cell_type": "code",
   "execution_count": 152,
   "id": "78ef59d0",
   "metadata": {},
   "outputs": [
    {
     "name": "stdout",
     "output_type": "stream",
     "text": [
      "6,MOVING VALUE = 3,5,1,8,7,2,4\n"
     ]
    }
   ],
   "source": [
    "console.log( arr.join() );"
   ]
  },
  {
   "cell_type": "markdown",
   "id": "cfbc21af",
   "metadata": {},
   "source": [
    "# While Loop Example"
   ]
  },
  {
   "cell_type": "code",
   "execution_count": 153,
   "id": "6c1a9c39",
   "metadata": {},
   "outputs": [],
   "source": [
    "let arr_Loop;\n",
    "let i_Loop;\n",
    "let lastIndex_Loop;\n",
    "let currentElement_Loop;"
   ]
  },
  {
   "cell_type": "code",
   "execution_count": 154,
   "id": "be91fb81",
   "metadata": {},
   "outputs": [
    {
     "data": {
      "text/plain": [
       "[\n",
       "  6, 5, 3, 1,\n",
       "  8, 7, 2, 4\n",
       "]"
      ]
     },
     "execution_count": 154,
     "metadata": {},
     "output_type": "execute_result"
    }
   ],
   "source": [
    "arr_Loop = new Array(6,5,3,1,8,7,2,4); "
   ]
  },
  {
   "cell_type": "code",
   "execution_count": 155,
   "id": "02c4c179",
   "metadata": {},
   "outputs": [
    {
     "data": {
      "text/plain": [
       "1"
      ]
     },
     "execution_count": 155,
     "metadata": {},
     "output_type": "execute_result"
    }
   ],
   "source": [
    "i_Loop = 2;\n",
    "lastIndex_Loop = i_Loop  - 1;"
   ]
  },
  {
   "cell_type": "code",
   "execution_count": 156,
   "id": "95952bbf",
   "metadata": {},
   "outputs": [
    {
     "data": {
      "text/plain": [
       "3"
      ]
     },
     "execution_count": 156,
     "metadata": {},
     "output_type": "execute_result"
    }
   ],
   "source": [
    "currentElement_Loop = arr_Loop[i_Loop];"
   ]
  },
  {
   "cell_type": "code",
   "execution_count": 157,
   "id": "86793566",
   "metadata": {},
   "outputs": [
    {
     "name": "stdout",
     "output_type": "stream",
     "text": [
      "6,5,3,1,8,7,2,4\n"
     ]
    }
   ],
   "source": [
    "console.log( arr_Loop.join() );"
   ]
  },
  {
   "cell_type": "code",
   "execution_count": 158,
   "id": "118b8db3",
   "metadata": {},
   "outputs": [
    {
     "name": "stdout",
     "output_type": "stream",
     "text": [
      "_________________________________\n",
      "[ 0 ] = 6\n",
      "[ 1 ] = 5\n",
      "[ 2 ] = 5\n",
      "[ 3 ] = 1\n",
      "[ 4 ] = 8\n",
      "[ 5 ] = 7\n",
      "[ 6 ] = 2\n",
      "[ 7 ] = 4\n",
      "_________________________________\n",
      "[ 0 ] = 6\n",
      "[ 1 ] = 6\n",
      "[ 2 ] = 5\n",
      "[ 3 ] = 1\n",
      "[ 4 ] = 8\n",
      "[ 5 ] = 7\n",
      "[ 6 ] = 2\n",
      "[ 7 ] = 4\n"
     ]
    }
   ],
   "source": [
    "  while (arr_Loop[lastIndex_Loop] > currentElement_Loop) {\n",
    "    arr_Loop[lastIndex_Loop + 1] = arr_Loop[lastIndex_Loop];\n",
    "    lastIndex_Loop--;\n",
    "      \n",
    "    printerArray(arr_Loop);\n",
    "  }"
   ]
  },
  {
   "cell_type": "markdown",
   "id": "eeed90cb",
   "metadata": {},
   "source": [
    "Moved [0]=6,[1]=5 to [1]=6,[2]=5. "
   ]
  },
  {
   "cell_type": "code",
   "execution_count": 159,
   "id": "7e14aa42",
   "metadata": {},
   "outputs": [
    {
     "name": "stdout",
     "output_type": "stream",
     "text": [
      "6,6,5,1,8,7,2,4\n"
     ]
    }
   ],
   "source": [
    "console.log( arr_Loop.join() );"
   ]
  },
  {
   "cell_type": "markdown",
   "id": "39f4966d",
   "metadata": {},
   "source": [
    "So put Currect Element at index 0;"
   ]
  },
  {
   "cell_type": "code",
   "execution_count": 160,
   "id": "0a890989",
   "metadata": {},
   "outputs": [
    {
     "name": "stdout",
     "output_type": "stream",
     "text": [
      "3,6,5,1,8,7,2,4\n"
     ]
    }
   ],
   "source": [
    "arr_Loop[0] = currentElement_Loop;\n",
    "console.log( arr_Loop.join() );"
   ]
  },
  {
   "cell_type": "code",
   "execution_count": null,
   "id": "3afe9867",
   "metadata": {},
   "outputs": [],
   "source": []
  }
 ],
 "metadata": {
  "kernelspec": {
   "display_name": "JavaScript (Node.js)",
   "language": "javascript",
   "name": "javascript"
  },
  "language_info": {
   "file_extension": ".js",
   "mimetype": "application/javascript",
   "name": "javascript",
   "version": "20.11.1"
  }
 },
 "nbformat": 4,
 "nbformat_minor": 5
}
