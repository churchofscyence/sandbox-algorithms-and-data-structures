{
 "cells": [
  {
   "cell_type": "markdown",
   "id": "184f2a6d",
   "metadata": {},
   "source": [
    "# Bubble Sort Algorithm"
   ]
  },
  {
   "cell_type": "code",
   "execution_count": 1,
   "id": "fd58c1d0",
   "metadata": {},
   "outputs": [],
   "source": [
    "function swap(_baseArr,_baseIndex,_offsetIndex){\n",
    "    var temp;\n",
    "\n",
    "     temp = _baseArr[_baseIndex];\n",
    "     _baseArr[_baseIndex] = _baseArr[_offsetIndex];\n",
    "     _baseArr[_offsetIndex] = temp;\n",
    "\n",
    "      return _baseArr;\n",
    "\n",
    "}"
   ]
  },
  {
   "cell_type": "code",
   "execution_count": 2,
   "id": "d4fcd9ea",
   "metadata": {},
   "outputs": [],
   "source": [
    "function bubbleSort(arr){\n",
    "\n",
    "    for(var mainIndex = 0; mainIndex < arr.length - 1; mainIndex++){\n",
    "\n",
    "\n",
    "            for(var offset = 1 + mainIndex; offset < arr.length; offset++){\n",
    "\n",
    "                if (arr[offset] < arr[mainIndex]) {\n",
    "                    arr = swap(arr, mainIndex, offset);\n",
    "\n",
    "                }\n",
    "            }\n",
    "\n",
    "    }\n",
    "\n",
    "}"
   ]
  },
  {
   "cell_type": "code",
   "execution_count": 3,
   "id": "7b04a3a3",
   "metadata": {},
   "outputs": [
    {
     "name": "stdout",
     "output_type": "stream",
     "text": [
      " SORTED ARRAY : 1,2,3,4,5,6,7,8\n"
     ]
    }
   ],
   "source": [
    "let arr = new Array(6,5,3,1,8,7,2,4);\n",
    "\n",
    "bubbleSort(arr);\n",
    "\n",
    "console.log( ` SORTED ARRAY : ${arr.join()}`)"
   ]
  },
  {
   "cell_type": "markdown",
   "id": "2d7b09fa",
   "metadata": {},
   "source": [
    "# Array Index Order (Brute Force)"
   ]
  },
  {
   "cell_type": "code",
   "execution_count": 1,
   "id": "e27339b4",
   "metadata": {},
   "outputs": [],
   "source": [
    "let arr;"
   ]
  },
  {
   "cell_type": "code",
   "execution_count": 2,
   "id": "1ad2f4b8",
   "metadata": {},
   "outputs": [
    {
     "data": {
      "text/plain": [
       "[ 4, 3, 2, 1, 0 ]"
      ]
     },
     "execution_count": 2,
     "metadata": {},
     "output_type": "execute_result"
    }
   ],
   "source": [
    "arr = [4, 3, 2, 1, 0]"
   ]
  },
  {
   "cell_type": "markdown",
   "id": "6c95c1f4",
   "metadata": {},
   "source": [
    "Check every combination\n"
   ]
  },
  {
   "cell_type": "code",
   "execution_count": 21,
   "id": "3c3f6377",
   "metadata": {},
   "outputs": [],
   "source": [
    "function indexOrderBrutForce(_arr){\n",
    "    \n",
    "    for(var mainIndex = 0; mainIndex < _arr.length - 1; mainIndex++){\n",
    "        for(var offsetIndex = 0 ; offsetIndex < arr.length; offsetIndex++){\n",
    "            console.log( ` Main Index [${mainIndex}] Offset Index [${offsetIndex}] `);\n",
    "        }\n",
    "    \n",
    "    }\n",
    "}"
   ]
  },
  {
   "cell_type": "code",
   "execution_count": 22,
   "id": "b6c21bb3",
   "metadata": {},
   "outputs": [
    {
     "name": "stdout",
     "output_type": "stream",
     "text": [
      " Main Index [0] Offset Index [0] \n",
      " Main Index [0] Offset Index [1] \n",
      " Main Index [0] Offset Index [2] \n",
      " Main Index [0] Offset Index [3] \n",
      " Main Index [0] Offset Index [4] \n",
      " Main Index [1] Offset Index [0] \n",
      " Main Index [1] Offset Index [1] \n",
      " Main Index [1] Offset Index [2] \n",
      " Main Index [1] Offset Index [3] \n",
      " Main Index [1] Offset Index [4] \n",
      " Main Index [2] Offset Index [0] \n",
      " Main Index [2] Offset Index [1] \n",
      " Main Index [2] Offset Index [2] \n",
      " Main Index [2] Offset Index [3] \n",
      " Main Index [2] Offset Index [4] \n",
      " Main Index [3] Offset Index [0] \n",
      " Main Index [3] Offset Index [1] \n",
      " Main Index [3] Offset Index [2] \n",
      " Main Index [3] Offset Index [3] \n",
      " Main Index [3] Offset Index [4] \n"
     ]
    }
   ],
   "source": [
    "indexOrderBrutForce(arr);"
   ]
  },
  {
   "cell_type": "markdown",
   "id": "f1038282",
   "metadata": {},
   "source": [
    "# Array Index Order (Optimal Outer and Inner Loop Iteration)"
   ]
  },
  {
   "cell_type": "markdown",
   "id": "d3a416c9",
   "metadata": {},
   "source": [
    "### DO NOT check same element\n",
    "When the main index and the offset index are the same, this means the two indexes point to the same element in the array, so it makes no sense to swap the same element. For example, Main Index [0]=2 and Offset Index [0]=2 is the first element in the array. We can eliminate these indexes from our two for-loops. \n",
    "\n",
    "### DO NOT elements already sorted\n",
    "After the outer loop has completed we know that value in the element does not need to be check because elemnt is in the correct place. For Example when Main Index **Zero loop** (mainIndex = 0)  completes we know element array[0] is in the right place in the array. "
   ]
  },
  {
   "cell_type": "code",
   "execution_count": 23,
   "id": "52b7ba75",
   "metadata": {},
   "outputs": [],
   "source": [
    "function indexOrder(_arr){\n",
    "    \n",
    "    for(var mainIndex = 0; mainIndex < _arr.length - 1; mainIndex++){\n",
    "        for(var offsetIndex = 1 + mainIndex; offsetIndex < arr.length; offsetIndex++){\n",
    "            console.log( ` Main Index [${mainIndex}] Offset Index [${offsetIndex}] `);\n",
    "        }\n",
    "    \n",
    "    }\n",
    "}"
   ]
  },
  {
   "cell_type": "code",
   "execution_count": 24,
   "id": "4c0df2ee",
   "metadata": {},
   "outputs": [
    {
     "name": "stdout",
     "output_type": "stream",
     "text": [
      " Main Index [0] Offset Index [1] \n",
      " Main Index [0] Offset Index [2] \n",
      " Main Index [0] Offset Index [3] \n",
      " Main Index [0] Offset Index [4] \n",
      " Main Index [1] Offset Index [2] \n",
      " Main Index [1] Offset Index [3] \n",
      " Main Index [1] Offset Index [4] \n",
      " Main Index [2] Offset Index [3] \n",
      " Main Index [2] Offset Index [4] \n",
      " Main Index [3] Offset Index [4] \n"
     ]
    }
   ],
   "source": [
    "indexOrder(arr);"
   ]
  }
 ],
 "metadata": {
  "kernelspec": {
   "display_name": "JavaScript (Node.js)",
   "language": "javascript",
   "name": "javascript"
  },
  "language_info": {
   "file_extension": ".js",
   "mimetype": "application/javascript",
   "name": "javascript",
   "version": "20.11.1"
  }
 },
 "nbformat": 4,
 "nbformat_minor": 5
}
