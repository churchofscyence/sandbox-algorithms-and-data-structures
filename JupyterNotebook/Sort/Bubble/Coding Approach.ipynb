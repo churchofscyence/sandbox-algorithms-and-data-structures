{
 "cells": [
  {
   "cell_type": "markdown",
   "id": "e2b68d50",
   "metadata": {},
   "source": [
    "# Bubble Sort Algorithm"
   ]
  },
  {
   "cell_type": "code",
   "execution_count": 1,
   "id": "fc5d3d65",
   "metadata": {},
   "outputs": [],
   "source": [
    "function swap(_baseArr,_offsetIndex){\n",
    "    var temp;\n",
    "\n",
    "     temp = _baseArr[_offsetIndex];\n",
    "     _baseArr[_offsetIndex] = _baseArr[_offsetIndex +1];\n",
    "     _baseArr[_offsetIndex + 1] = temp;\n",
    "\n",
    "      return _baseArr;\n",
    "\n",
    "}"
   ]
  },
  {
   "cell_type": "code",
   "execution_count": 2,
   "id": "6beebda9",
   "metadata": {},
   "outputs": [],
   "source": [
    "function binarySort(arr) {\n",
    "\n",
    "    for (var mainIndex = 0; mainIndex < arr.length; mainIndex++) {\n",
    "\n",
    "        // Last i elements are already in place  \n",
    "        for (var offset = 0; offset < (arr.length - mainIndex - 1); offset++) {\n",
    "\n",
    "            // Checking if the item at present iteration \n",
    "            // is greater than the next iteration\n",
    "            if (arr[offset] > arr[offset + 1]) {\n",
    "\n",
    "                // If the condition is true\n",
    "                // then swap them\n",
    "                arr = swap(arr,offset);\n",
    "            }\n",
    "        }\n",
    "    }\n",
    "\n",
    "    // Print the sorted array\n",
    "    return arr;\n",
    "}\n",
    "\n"
   ]
  },
  {
   "cell_type": "code",
   "execution_count": 3,
   "id": "0aaca29d",
   "metadata": {},
   "outputs": [],
   "source": [
    "let arr;\n",
    "let result;"
   ]
  },
  {
   "cell_type": "code",
   "execution_count": 7,
   "id": "c5bb3ca1",
   "metadata": {},
   "outputs": [
    {
     "name": "stdout",
     "output_type": "stream",
     "text": [
      "Result Array : 1,2,3,4,5,6,7,8 \n"
     ]
    }
   ],
   "source": [
    "// This is our unsorted array\n",
    "arr = [6,5,3,1,8,7,2,4];\n",
    "\n",
    "// Now pass this array to the binarySort() function\n",
    "result = binarySort(arr);\n",
    "\n",
    "console.log(`Result Array : ${result.join()} `)"
   ]
  },
  {
   "cell_type": "markdown",
   "id": "497a4344",
   "metadata": {},
   "source": [
    "# Indexes"
   ]
  },
  {
   "cell_type": "code",
   "execution_count": 10,
   "id": "ba0b316b",
   "metadata": {},
   "outputs": [
    {
     "name": "stdout",
     "output_type": "stream",
     "text": [
      "________________________\n",
      "Offset 0 j Offset Plus One 1\n",
      "Offset 1 j Offset Plus One 2\n",
      "Offset 2 j Offset Plus One 3\n",
      "Offset 3 j Offset Plus One 4\n",
      "Offset 4 j Offset Plus One 5\n",
      "Offset 5 j Offset Plus One 6\n",
      "Offset 6 j Offset Plus One 7\n",
      "________________________\n",
      "Offset 0 j Offset Plus One 1\n",
      "Offset 1 j Offset Plus One 2\n",
      "Offset 2 j Offset Plus One 3\n",
      "Offset 3 j Offset Plus One 4\n",
      "Offset 4 j Offset Plus One 5\n",
      "Offset 5 j Offset Plus One 6\n",
      "________________________\n",
      "Offset 0 j Offset Plus One 1\n",
      "Offset 1 j Offset Plus One 2\n",
      "Offset 2 j Offset Plus One 3\n",
      "Offset 3 j Offset Plus One 4\n",
      "Offset 4 j Offset Plus One 5\n",
      "________________________\n",
      "Offset 0 j Offset Plus One 1\n",
      "Offset 1 j Offset Plus One 2\n",
      "Offset 2 j Offset Plus One 3\n",
      "Offset 3 j Offset Plus One 4\n",
      "________________________\n",
      "Offset 0 j Offset Plus One 1\n",
      "Offset 1 j Offset Plus One 2\n",
      "Offset 2 j Offset Plus One 3\n",
      "________________________\n",
      "Offset 0 j Offset Plus One 1\n",
      "Offset 1 j Offset Plus One 2\n",
      "________________________\n",
      "Offset 0 j Offset Plus One 1\n",
      "________________________\n"
     ]
    }
   ],
   "source": [
    "    for (var i = 0; i < arr.length; i++) {\n",
    "        \n",
    "        console.log(`________________________`)\n",
    "\n",
    "        // Last i elements are already in place  \n",
    "        for (var j = 0; j < (arr.length - i - 1); j++) {\n",
    "           console.log(`Offset ${j} j Offset Plus One ${j+1}`)\n",
    "     \n",
    "        }\n",
    "    }"
   ]
  },
  {
   "cell_type": "code",
   "execution_count": null,
   "id": "8f91d590",
   "metadata": {},
   "outputs": [],
   "source": []
  }
 ],
 "metadata": {
  "kernelspec": {
   "display_name": "JavaScript (Node.js)",
   "language": "javascript",
   "name": "javascript"
  },
  "language_info": {
   "file_extension": ".js",
   "mimetype": "application/javascript",
   "name": "javascript",
   "version": "20.11.1"
  }
 },
 "nbformat": 4,
 "nbformat_minor": 5
}
