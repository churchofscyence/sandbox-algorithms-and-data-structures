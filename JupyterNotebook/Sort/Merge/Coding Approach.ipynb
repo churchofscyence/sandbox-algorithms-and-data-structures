{
 "cells": [
  {
   "cell_type": "markdown",
   "id": "8c7e2abf",
   "metadata": {},
   "source": [
    "# Merge Sort Algorithm"
   ]
  },
  {
   "cell_type": "code",
   "execution_count": 1,
   "id": "b8628273",
   "metadata": {},
   "outputs": [],
   "source": [
    "function merge(leftArray, rightArray) {\n",
    "\n",
    "    let sortedArray = [] // the sorted items will go here\n",
    "\n",
    "    while (leftArray.length && rightArray.length) {\n",
    "\n",
    "      // Insert the smallest item into sortedArr\n",
    "      if (leftArray[0] < rightArray[0]) {\n",
    "        sortedArray.push(leftArray.shift())\n",
    "      } else {\n",
    "        sortedArray.push(rightArray.shift())\n",
    "      }\n",
    "\n",
    "    }\n",
    "\n",
    "    // Use spread operators to create a new array, combining the three arrays\n",
    "    return [...sortedArray, ...leftArray, ...rightArray]\n",
    "  }"
   ]
  },
  {
   "cell_type": "code",
   "execution_count": 2,
   "id": "3e67ca30",
   "metadata": {},
   "outputs": [],
   "source": [
    "  function mergeSort(arr) {\n",
    "\n",
    "              \n",
    "    // Base case\n",
    "    if (arr.length <= 1){\n",
    "      return arr;\n",
    "    } \n",
    "\n",
    "    let mid = Math.floor(arr.length / 2);\n",
    "  \n",
    "    // Recursive calls\n",
    "    let left = mergeSort(arr.slice(0, mid));\n",
    "    let right = mergeSort(arr.slice(mid));\n",
    "\n",
    "\n",
    "    return merge(left, right)\n",
    "  }"
   ]
  },
  {
   "cell_type": "code",
   "execution_count": 3,
   "id": "814fafaf",
   "metadata": {},
   "outputs": [
    {
     "name": "stdout",
     "output_type": "stream",
     "text": [
      "1,2,3,4,5,6,7,8\n"
     ]
    }
   ],
   "source": [
    "let arr = new Array(6,5,3,1,8,7,2,4);\n",
    "\n",
    "let results = mergeSort(arr)\n",
    "\n",
    "console.log( results.join() )"
   ]
  },
  {
   "cell_type": "markdown",
   "id": "c52986ef",
   "metadata": {},
   "source": [
    "# Convert Number to Boolean"
   ]
  },
  {
   "cell_type": "markdown",
   "id": "60ddfea4",
   "metadata": {},
   "source": [
    "We can say that for 0, we will get the false Boolean value and for all other numbers, we will get the true value."
   ]
  },
  {
   "cell_type": "code",
   "execution_count": 4,
   "id": "620e94f7",
   "metadata": {},
   "outputs": [
    {
     "name": "stdout",
     "output_type": "stream",
     "text": [
      " Number 0 convert Boolean false\n",
      " Number 1 convert Boolean true\n",
      " Number 2 convert Boolean true\n",
      " Number 3 convert Boolean true\n",
      " Number 4 convert Boolean true\n",
      " Number 5 convert Boolean true\n",
      " Number 6 convert Boolean true\n",
      " Number 7 convert Boolean true\n",
      " Number 8 convert Boolean true\n",
      " Number 9 convert Boolean true\n",
      " Number 10 convert Boolean true\n",
      " Number 11 convert Boolean true\n",
      " Number 12 convert Boolean true\n",
      " Number 13 convert Boolean true\n",
      " Number 14 convert Boolean true\n",
      " Number 15 convert Boolean true\n",
      " Number 16 convert Boolean true\n",
      " Number 17 convert Boolean true\n",
      " Number 18 convert Boolean true\n",
      " Number 19 convert Boolean true\n"
     ]
    }
   ],
   "source": [
    "for( var i = 0; i < 20; i++){\n",
    "    console.log(` Number ${i} convert Boolean ${Boolean(i)}`)\n",
    "}"
   ]
  },
  {
   "cell_type": "markdown",
   "id": "c4444be6",
   "metadata": {},
   "source": [
    "#  With many arrays CHECKING that at least one array is Empty"
   ]
  },
  {
   "cell_type": "markdown",
   "id": "d63457d0",
   "metadata": {},
   "source": [
    "If one array length is 0 and the other array is 1 the value will be false. So the while loop will stop if **both arrays are empty** or **one array has one element and the other array is empty**. In the merge method the left and right array must has one element to do the a compare ( leftArray[0] < rightArray[0] ) \n",
    "\n",
    "Note: **0 && 0 = false, 1 && 0 = false**, 1 && 1 = true, 3 && 2 = true"
   ]
  },
  {
   "cell_type": "code",
   "execution_count": 5,
   "id": "47eb6838",
   "metadata": {},
   "outputs": [
    {
     "name": "stdout",
     "output_type": "stream",
     "text": [
      "false\n"
     ]
    }
   ],
   "source": [
    "if( [].length && [].length ){ console.log(\"true\") }else{ console.log(\"false\") }"
   ]
  },
  {
   "cell_type": "code",
   "execution_count": 6,
   "id": "f9ab1916",
   "metadata": {},
   "outputs": [
    {
     "name": "stdout",
     "output_type": "stream",
     "text": [
      "false\n"
     ]
    }
   ],
   "source": [
    "if( [4].length && [].length ){ console.log(\"true\") }else{ console.log(\"false\") }"
   ]
  },
  {
   "cell_type": "code",
   "execution_count": 7,
   "id": "4d8201e5",
   "metadata": {},
   "outputs": [
    {
     "name": "stdout",
     "output_type": "stream",
     "text": [
      "true\n"
     ]
    }
   ],
   "source": [
    "if( [5].length && [6].length ){ console.log(\"true\") }else{ console.log(\"false\") }"
   ]
  },
  {
   "cell_type": "code",
   "execution_count": 8,
   "id": "9c90fe43",
   "metadata": {},
   "outputs": [
    {
     "name": "stdout",
     "output_type": "stream",
     "text": [
      "true\n"
     ]
    }
   ],
   "source": [
    "if( [5,1,3].length && [6,3].length ){ console.log(\"true\") }else{ console.log(\"false\") }"
   ]
  },
  {
   "cell_type": "markdown",
   "id": "fbe79b6c",
   "metadata": {},
   "source": [
    "# Merge Sort Method"
   ]
  },
  {
   "cell_type": "code",
   "execution_count": 9,
   "id": "9f72fa36",
   "metadata": {},
   "outputs": [],
   "source": [
    "  function mergeSortMethod(arr) {\n",
    "\n",
    "              \n",
    "    // Base case\n",
    "    if (arr.length <= 1){\n",
    "      return arr;\n",
    "    } \n",
    "\n",
    "    let mid = Math.floor(arr.length / 2);\n",
    "  \n",
    "    // Recursive calls\n",
    "    console.log(` LEFT ARRAY : ${arr.slice(0, mid)}` );\n",
    "    console.log(` RIGHT ARRAY : ${arr.slice(mid)}` );\n",
    "  }"
   ]
  },
  {
   "cell_type": "markdown",
   "id": "9723ef80",
   "metadata": {},
   "source": [
    "# 1"
   ]
  },
  {
   "cell_type": "code",
   "execution_count": 10,
   "id": "b67364cb",
   "metadata": {},
   "outputs": [
    {
     "name": "stdout",
     "output_type": "stream",
     "text": [
      " LEFT ARRAY : 6,5,3,1\n",
      " RIGHT ARRAY : 8,7,2,4\n"
     ]
    }
   ],
   "source": [
    "mergeSortMethod([6,5,3,1,8,7,2,4])"
   ]
  },
  {
   "cell_type": "markdown",
   "id": "c0c664d4",
   "metadata": {},
   "source": [
    "# 2"
   ]
  },
  {
   "cell_type": "code",
   "execution_count": 11,
   "id": "3b2c7c46",
   "metadata": {},
   "outputs": [
    {
     "name": "stdout",
     "output_type": "stream",
     "text": [
      " LEFT ARRAY : 6,5\n",
      " RIGHT ARRAY : 3,1\n"
     ]
    }
   ],
   "source": [
    "mergeSortMethod([6,5,3,1])"
   ]
  },
  {
   "cell_type": "code",
   "execution_count": 12,
   "id": "d51efb6e",
   "metadata": {},
   "outputs": [
    {
     "name": "stdout",
     "output_type": "stream",
     "text": [
      " LEFT ARRAY : 8,7\n",
      " RIGHT ARRAY : 2,4\n"
     ]
    }
   ],
   "source": [
    "mergeSortMethod([8,7,2,4])"
   ]
  },
  {
   "cell_type": "markdown",
   "id": "c5270f35",
   "metadata": {},
   "source": [
    "# 3"
   ]
  },
  {
   "cell_type": "code",
   "execution_count": 13,
   "id": "c92a5a30",
   "metadata": {},
   "outputs": [
    {
     "name": "stdout",
     "output_type": "stream",
     "text": [
      " LEFT ARRAY : 6\n",
      " RIGHT ARRAY : 5\n"
     ]
    }
   ],
   "source": [
    "mergeSortMethod([6,5])"
   ]
  },
  {
   "cell_type": "code",
   "execution_count": 14,
   "id": "69254524",
   "metadata": {},
   "outputs": [
    {
     "name": "stdout",
     "output_type": "stream",
     "text": [
      " LEFT ARRAY : 3\n",
      " RIGHT ARRAY : 1\n"
     ]
    }
   ],
   "source": [
    "mergeSortMethod([3,1])"
   ]
  },
  {
   "cell_type": "code",
   "execution_count": 15,
   "id": "3f13d8d9",
   "metadata": {},
   "outputs": [
    {
     "name": "stdout",
     "output_type": "stream",
     "text": [
      " LEFT ARRAY : 8\n",
      " RIGHT ARRAY : 7\n"
     ]
    }
   ],
   "source": [
    "mergeSortMethod([8,7])"
   ]
  },
  {
   "cell_type": "code",
   "execution_count": 16,
   "id": "b168b755",
   "metadata": {},
   "outputs": [
    {
     "name": "stdout",
     "output_type": "stream",
     "text": [
      " LEFT ARRAY : 2\n",
      " RIGHT ARRAY : 4\n"
     ]
    }
   ],
   "source": [
    "mergeSortMethod([2,4])"
   ]
  },
  {
   "cell_type": "markdown",
   "id": "5b720883",
   "metadata": {},
   "source": [
    "# Merge Method"
   ]
  },
  {
   "cell_type": "code",
   "execution_count": 17,
   "id": "cbc54054",
   "metadata": {},
   "outputs": [],
   "source": [
    "let leftArray;\n",
    "let rightArray;"
   ]
  },
  {
   "cell_type": "code",
   "execution_count": 18,
   "id": "ad44deac",
   "metadata": {},
   "outputs": [],
   "source": [
    "function mergeMethod(leftArray, rightArray) {\n",
    "\n",
    "    let sortedArray = [] // the sorted items will go here\n",
    "    let counter = 1;\n",
    "\n",
    "    while (leftArray.length && rightArray.length) {\n",
    "        \n",
    "         console.log(` ${counter} ___________________________________`);\n",
    "\n",
    "      // Insert the smallest item into sortedArr\n",
    "      if (leftArray[0] < rightArray[0]) {\n",
    "        sortedArray.push(leftArray.shift())\n",
    "      } else {\n",
    "        sortedArray.push(rightArray.shift())\n",
    "      }\n",
    "        console.log(`Left Array ${leftArray.join()}`);\n",
    "        console.log(`Right Array ${rightArray.join()}`);\n",
    "        console.log(`Sorted Array ${sortedArray.join()}`);\n",
    "        \n",
    "        counter++;\n",
    "\n",
    "    }\n",
    "\n",
    "    // Use spread operators to create a new array, combining the three arrays\n",
    "    return [...sortedArray, ...leftArray, ...rightArray]\n",
    "  }"
   ]
  },
  {
   "cell_type": "markdown",
   "id": "3550e612",
   "metadata": {},
   "source": [
    "# 1"
   ]
  },
  {
   "cell_type": "code",
   "execution_count": 19,
   "id": "54484be8",
   "metadata": {},
   "outputs": [
    {
     "name": "stdout",
     "output_type": "stream",
     "text": [
      " 1 ___________________________________\n",
      "Left Array 5,6\n",
      "Right Array 3\n",
      "Sorted Array 1\n",
      " 2 ___________________________________\n",
      "Left Array 5,6\n",
      "Right Array \n",
      "Sorted Array 1,3\n"
     ]
    },
    {
     "data": {
      "text/plain": [
       "[ 1, 3, 5, 6 ]"
      ]
     },
     "execution_count": 19,
     "metadata": {},
     "output_type": "execute_result"
    }
   ],
   "source": [
    "leftArray = [5,6];\n",
    "rightArray = [ 1,3];\n",
    "\n",
    "mergeMethod(leftArray,rightArray);"
   ]
  },
  {
   "cell_type": "code",
   "execution_count": 20,
   "id": "5b74947a",
   "metadata": {},
   "outputs": [
    {
     "name": "stdout",
     "output_type": "stream",
     "text": [
      " 1 ___________________________________\n",
      "Left Array 7,8\n",
      "Right Array 4\n",
      "Sorted Array 2\n",
      " 2 ___________________________________\n",
      "Left Array 7,8\n",
      "Right Array \n",
      "Sorted Array 2,4\n"
     ]
    },
    {
     "data": {
      "text/plain": [
       "[ 2, 4, 7, 8 ]"
      ]
     },
     "execution_count": 20,
     "metadata": {},
     "output_type": "execute_result"
    }
   ],
   "source": [
    "leftArray = [7,8];\n",
    "rightArray = [ 2,4];\n",
    "\n",
    "mergeMethod(leftArray,rightArray);"
   ]
  },
  {
   "cell_type": "markdown",
   "id": "4b56644b",
   "metadata": {},
   "source": [
    "# 2"
   ]
  },
  {
   "cell_type": "code",
   "execution_count": 21,
   "id": "fd0916ba",
   "metadata": {},
   "outputs": [
    {
     "name": "stdout",
     "output_type": "stream",
     "text": [
      " 1 ___________________________________\n",
      "Left Array 3,5,6\n",
      "Right Array 2,4,7,8\n",
      "Sorted Array 1\n",
      " 2 ___________________________________\n",
      "Left Array 3,5,6\n",
      "Right Array 4,7,8\n",
      "Sorted Array 1,2\n",
      " 3 ___________________________________\n",
      "Left Array 5,6\n",
      "Right Array 4,7,8\n",
      "Sorted Array 1,2,3\n",
      " 4 ___________________________________\n",
      "Left Array 5,6\n",
      "Right Array 7,8\n",
      "Sorted Array 1,2,3,4\n",
      " 5 ___________________________________\n",
      "Left Array 6\n",
      "Right Array 7,8\n",
      "Sorted Array 1,2,3,4,5\n",
      " 6 ___________________________________\n",
      "Left Array \n",
      "Right Array 7,8\n",
      "Sorted Array 1,2,3,4,5,6\n"
     ]
    },
    {
     "data": {
      "text/plain": [
       "'1,2,3,4,5,6,7,8'"
      ]
     },
     "execution_count": 21,
     "metadata": {},
     "output_type": "execute_result"
    }
   ],
   "source": [
    "leftArray = [ 1, 3, 5, 6 ];\n",
    "rightArray = [ 2, 4, 7, 8 ];\n",
    "\n",
    "mergeMethod(leftArray,rightArray).join();"
   ]
  },
  {
   "cell_type": "code",
   "execution_count": null,
   "id": "dd331395",
   "metadata": {},
   "outputs": [],
   "source": []
  }
 ],
 "metadata": {
  "kernelspec": {
   "display_name": "JavaScript (Node.js)",
   "language": "javascript",
   "name": "javascript"
  },
  "language_info": {
   "file_extension": ".js",
   "mimetype": "application/javascript",
   "name": "javascript",
   "version": "20.11.1"
  }
 },
 "nbformat": 4,
 "nbformat_minor": 5
}
