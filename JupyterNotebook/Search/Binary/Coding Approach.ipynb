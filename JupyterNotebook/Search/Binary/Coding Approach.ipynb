{
 "cells": [
  {
   "cell_type": "markdown",
   "id": "d9b3c104",
   "metadata": {},
   "source": [
    "# Library Files"
   ]
  },
  {
   "cell_type": "code",
   "execution_count": 1,
   "id": "312b0164",
   "metadata": {},
   "outputs": [],
   "source": [
    "function printArray(arr,midpoint,label){\n",
    "    \n",
    "    console.log('[index] = value');\n",
    "    \n",
    "    for( let index = 0; index < arr.length; index++){\n",
    "        \n",
    "        let _label = \"\";\n",
    "        \n",
    "        if(midpoint == index){\n",
    "            _label = label;\n",
    "        }\n",
    "        \n",
    "        \n",
    "        console.log(`[ ${index} ] = ${arr[index]}  ${_label} \\n`)\n",
    "    }\n",
    "    \n",
    "}"
   ]
  },
  {
   "cell_type": "markdown",
   "id": "205ac5a5",
   "metadata": {},
   "source": [
    "# Binary Search"
   ]
  },
  {
   "cell_type": "markdown",
   "id": "f8a505a4",
   "metadata": {},
   "source": [
    "Binary Search is defined as a searching algorithm used in a sorted array by repeatedly dividing the search interval in half. The idea of binary search is to use the information that the array is sorted and reduce the time complexity to O(log N). The array must be already pre sorted from small to largest too small value before you do the search. This algorithm is used to search for a specific element in a sorted array by repeatedly dividing the search interval in half."
   ]
  },
  {
   "cell_type": "markdown",
   "id": "983747af",
   "metadata": {},
   "source": [
    "# Negitive Numbers"
   ]
  },
  {
   "cell_type": "markdown",
   "id": "db07d2b1",
   "metadata": {},
   "source": [
    "Binary Search will work with numbers. "
   ]
  },
  {
   "cell_type": "code",
   "execution_count": 2,
   "id": "b1ce01e0",
   "metadata": {},
   "outputs": [
    {
     "name": "stdout",
     "output_type": "stream",
     "text": [
      "[index] = value\n",
      "[ 0 ] = -1  <----  Midpoint \n",
      "\n",
      "[ 1 ] = 5   \n",
      "\n",
      "[ 2 ] = 7   \n",
      "\n",
      "[ 3 ] = 8   \n",
      "\n",
      "[ 4 ] = 9   \n",
      "\n",
      "[ 5 ] = 13   \n",
      "\n",
      "[ 6 ] = 56   \n",
      "\n"
     ]
    }
   ],
   "source": [
    "printArray([-1,5,7,8,9,13,56], 0, \"<----  Midpoint\");"
   ]
  },
  {
   "cell_type": "markdown",
   "id": "919324a0",
   "metadata": {},
   "source": [
    "# Coding Approach"
   ]
  },
  {
   "cell_type": "markdown",
   "id": "db2ec93e",
   "metadata": {},
   "source": [
    "When trying to decide what coding approach you want to use it's good writing example on paper. For Binary Search the **array must be sorted**. The array elements are 3,5,7,8,9,13,56 and the item we are searching for is 13. In a Binary Search you reduce the array in half and check midpoint to see if the midpoint is equal, larger than, or less than for the value you are searching."
   ]
  },
  {
   "cell_type": "markdown",
   "id": "5ad2dfa4",
   "metadata": {},
   "source": [
    "## Only Check Midpoint pointer value "
   ]
  },
  {
   "cell_type": "markdown",
   "id": "ea051475",
   "metadata": {},
   "source": [
    "The midpoint in the array is at index 3. 13 is greater than 8 so **[4]=9, [5]=13, and [6]=56** still needs to be checked. You use pointers to to keep track of the elements that are still to be checked. When using pointers you create two variables to store the first (head pointer) and last (tail pointer) element. So head would equal 4 and tail would equal 6. You **DO NOT check the values of the head and tail pointers**. When using pointers do not check the value of the head and tail pointers just check the midpoint pointer value. In this approach you uses pointers because to maintain the index value."
   ]
  },
  {
   "cell_type": "markdown",
   "id": "cc292057",
   "metadata": {},
   "source": [
    "## Moving Midpoint pointer"
   ]
  },
  {
   "cell_type": "markdown",
   "id": "68a63ee0",
   "metadata": {},
   "source": [
    "The **common mistake when moving the front or the tail pointers you do it you include the midpoint element**. For example, if the midpoint is index 3 which contains the value 8 should not be included in the next search iteration. So the head point should be moved to [4]=9 "
   ]
  },
  {
   "cell_type": "code",
   "execution_count": 3,
   "id": "44f319fb",
   "metadata": {},
   "outputs": [
    {
     "name": "stdout",
     "output_type": "stream",
     "text": [
      "[index] = value\n",
      "[ 0 ] = 3   \n",
      "\n",
      "[ 1 ] = 5   \n",
      "\n",
      "[ 2 ] = 7   \n",
      "\n",
      "[ 3 ] = 8  <----  Midpoint \n",
      "\n",
      "[ 4 ] = 9   \n",
      "\n",
      "[ 5 ] = 13   \n",
      "\n",
      "[ 6 ] = 56   \n",
      "\n"
     ]
    }
   ],
   "source": [
    "printArray([3,5,7,8,9,13,56], 3,\"<----  Midpoint\");"
   ]
  },
  {
   "cell_type": "markdown",
   "id": "966af3d2",
   "metadata": {},
   "source": [
    "## Find the element"
   ]
  },
  {
   "cell_type": "markdown",
   "id": "af2f2d25",
   "metadata": {},
   "source": [
    "When Binary Search find the value the Head/Midpoint/Tail will be pointing to the same element. "
   ]
  },
  {
   "cell_type": "code",
   "execution_count": 4,
   "id": "a7407381",
   "metadata": {},
   "outputs": [
    {
     "name": "stdout",
     "output_type": "stream",
     "text": [
      "[index] = value\n",
      "[ 0 ] = 3   \n",
      "\n",
      "[ 1 ] = 5   \n",
      "\n",
      "[ 2 ] = 7   \n",
      "\n",
      "[ 3 ] = 8  <----  Head Midpoint Tail \n",
      "\n",
      "[ 4 ] = 9   \n",
      "\n",
      "[ 5 ] = 13   \n",
      "\n",
      "[ 6 ] = 56   \n",
      "\n"
     ]
    }
   ],
   "source": [
    "printArray([3,5,7,8,9,13,56], 3,\"<----  Head Midpoint Tail\");"
   ]
  },
  {
   "cell_type": "markdown",
   "id": "a706382b",
   "metadata": {},
   "source": [
    "## Big O Complexity of Binary Search:"
   ]
  },
  {
   "cell_type": "markdown",
   "id": "3b3cb4f8",
   "metadata": {},
   "source": [
    "* The worst-case running time of binary search is logarithmic, denoted as O(log n).     \n",
    "* What does this mean?       \n",
    "    * As the input size (number of elements in the array) grows, the running time of binary search increases at most logarithmically.         \n",
    "    * Specifically, for large enough input sizes, the running time is at most k ⋅ log n for some constant k.   \n",
    "* In other words, binary search efficiently narrows down the search space by half with each comparison, leading to a logarithmic growth rate.    "
   ]
  },
  {
   "cell_type": "code",
   "execution_count": 5,
   "id": "590c1625",
   "metadata": {},
   "outputs": [
    {
     "data": {
      "text/plain": [
       "1.9459101490553132"
      ]
     },
     "execution_count": 5,
     "metadata": {},
     "output_type": "execute_result"
    }
   ],
   "source": [
    "Math.log(7)"
   ]
  }
 ],
 "metadata": {
  "kernelspec": {
   "display_name": "JavaScript (Node.js)",
   "language": "javascript",
   "name": "javascript"
  },
  "language_info": {
   "file_extension": ".js",
   "mimetype": "application/javascript",
   "name": "javascript",
   "version": "20.11.1"
  }
 },
 "nbformat": 4,
 "nbformat_minor": 5
}
