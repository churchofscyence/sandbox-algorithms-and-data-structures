{
 "cells": [
  {
   "cell_type": "markdown",
   "id": "41cb8c2a",
   "metadata": {},
   "source": [
    "# Linear Search Algorithm "
   ]
  },
  {
   "cell_type": "code",
   "execution_count": 3,
   "id": "c11a0ca3",
   "metadata": {},
   "outputs": [],
   "source": [
    "function  linearSearch(arr, target) {\n",
    "\n",
    "    for (let i in arr) {\n",
    "\n",
    "      if (arr[i] === target){\n",
    "        return +i;\n",
    "      } \n",
    "        \n",
    "    }\n",
    "    return -1;\n",
    "}"
   ]
  },
  {
   "cell_type": "code",
   "execution_count": 5,
   "id": "7cebcd99",
   "metadata": {},
   "outputs": [
    {
     "name": "stdout",
     "output_type": "stream",
     "text": [
      "2\n"
     ]
    }
   ],
   "source": [
    "console.log( linearSearch([1,2,3,4,5,6,7],3) )"
   ]
  },
  {
   "cell_type": "code",
   "execution_count": null,
   "id": "c870ca9b",
   "metadata": {},
   "outputs": [],
   "source": []
  }
 ],
 "metadata": {
  "kernelspec": {
   "display_name": "JavaScript (Node.js)",
   "language": "javascript",
   "name": "javascript"
  },
  "language_info": {
   "file_extension": ".js",
   "mimetype": "application/javascript",
   "name": "javascript",
   "version": "20.11.1"
  }
 },
 "nbformat": 4,
 "nbformat_minor": 5
}
